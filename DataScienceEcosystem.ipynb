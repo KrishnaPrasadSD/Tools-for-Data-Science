{
 "cells": [
  {
   "cell_type": "markdown",
   "id": "ae092522",
   "metadata": {},
   "source": [
    "<center>\n",
    "    <img src=\"https://cf-courses-data.s3.us.cloud-object-storage.appdomain.cloud/IBMDeveloperSkillsNetwork-DS0105EN-SkillsNetwork/labs/Module2/images/SN_web_lightmode.png\" width=\"300\" alt=\"cognitiveclass.ai logo\">\n",
    "</center>\n"
   ]
  },
  {
   "cell_type": "markdown",
   "id": "48c243d8",
   "metadata": {},
   "source": [
    "#### Add your code below following the instructions given in the course"
   ]
  },
  {
   "cell_type": "markdown",
   "id": "10294b15",
   "metadata": {},
   "source": [
    "\n",
    "# Data Science Tools and Ecosystem"
   ]
  },
  {
   "cell_type": "markdown",
   "id": "1a20cc30",
   "metadata": {},
   "source": [
    "**In this notebook, Data Science Tools and Ecosystem are summarized.**\n"
   ]
  },
  {
   "cell_type": "markdown",
   "id": "4734ab9b",
   "metadata": {},
   "source": [
    "***objectives:***\n",
    "+ Popular languages used by Data Scientists\n",
    "+ Popular libraries used by Data Scientists\n",
    "+ Popular Data Science tools used by Data Scientists.\n",
    "+ Arithmetic Expressions."
   ]
  },
  {
   "cell_type": "markdown",
   "id": "59ca55ba",
   "metadata": {},
   "source": [
    "Some of the popular languages that Data Scientists use are :<br>\n",
    "    1. Python <br>\n",
    "    2. R<br>\n",
    "    3. SQL<br>\n"
   ]
  },
  {
   "cell_type": "markdown",
   "id": "d3ee45f2",
   "metadata": {},
   "source": [
    "Some of the commonly used libraries used by Data Scientists include :<br>\n",
    "    1.Pandas<br>\n",
    "    2.Numpy<br>\n",
    "    3.Matplotlib<br>"
   ]
  },
  {
   "cell_type": "markdown",
   "id": "ed87d480",
   "metadata": {},
   "source": [
    "|Data Science Tools|\n",
    "|------------------|\n",
    "|MySQL|\n",
    "|PostgreSQL|\n",
    "|NoSQL|"
   ]
  },
  {
   "cell_type": "markdown",
   "id": "5793bf3e",
   "metadata": {},
   "source": [
    "### Below are a few examples of evaluating arithmetic expressions in python"
   ]
  },
  {
   "cell_type": "code",
   "execution_count": 3,
   "id": "b415606d",
   "metadata": {},
   "outputs": [
    {
     "name": "stdout",
     "output_type": "stream",
     "text": [
      "17\n"
     ]
    }
   ],
   "source": [
    "# This a simple arithmetic expression to multiply then add integers\n",
    "\n",
    "print((3*4)+5)"
   ]
  },
  {
   "cell_type": "code",
   "execution_count": 4,
   "id": "c9bbd9d6",
   "metadata": {},
   "outputs": [
    {
     "name": "stdout",
     "output_type": "stream",
     "text": [
      "3.3333333333333335 hrs\n"
     ]
    }
   ],
   "source": [
    "# This will convert 200 minutes to hours by dividing by 60\n",
    "\n",
    "minutes = 200\n",
    "hours = minutes/60\n",
    "print(hours,'hrs')"
   ]
  },
  {
   "cell_type": "code",
   "execution_count": 5,
   "id": "fcefcf1a",
   "metadata": {},
   "outputs": [
    {
     "name": "stdout",
     "output_type": "stream",
     "text": [
      "200\n",
      "Converted 200 minutes into 3.3 hrs\n"
     ]
    }
   ],
   "source": [
    "# This will convert 200 minutes to hours by dividing by 60\n",
    "\n",
    "minutes=int(input())\n",
    "print('Converted',minutes,'minutes into',round(minutes/60,1),'hrs')"
   ]
  },
  {
   "cell_type": "markdown",
   "id": "8eb56ed8",
   "metadata": {},
   "source": [
    "## Author\n",
    "Krishna Prasad"
   ]
  }
 ],
 "metadata": {
  "kernelspec": {
   "display_name": "Python 3 (ipykernel)",
   "language": "python",
   "name": "python3"
  },
  "language_info": {
   "codemirror_mode": {
    "name": "ipython",
    "version": 3
   },
   "file_extension": ".py",
   "mimetype": "text/x-python",
   "name": "python",
   "nbconvert_exporter": "python",
   "pygments_lexer": "ipython3",
   "version": "3.9.7"
  }
 },
 "nbformat": 4,
 "nbformat_minor": 5
}
